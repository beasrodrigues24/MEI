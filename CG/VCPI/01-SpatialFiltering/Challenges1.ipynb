{
 "cells": [
  {
   "cell_type": "code",
   "execution_count": null,
   "id": "bc189838",
   "metadata": {},
   "outputs": [],
   "source": [
    "import cv2\n",
    "# to install cv2 use: pip install opencv-python\n",
    "import math\n",
    "import matplotlib.pyplot as plt \n",
    "import numpy as np"
   ]
  },
  {
   "cell_type": "markdown",
   "id": "11c01372",
   "metadata": {},
   "source": [
    "# Skeleton"
   ]
  },
  {
   "cell_type": "code",
   "execution_count": null,
   "id": "52f5999c",
   "metadata": {},
   "outputs": [],
   "source": [
    "fname = 'Images/skeleton.png'\n",
    "img = cv2.imread(fname,cv2.IMREAD_GRAYSCALE)\n",
    "print(img.shape)\n",
    "fig = plt.figure(figsize=(25,15))\n",
    "plt.imshow(img, cmap='gray')"
   ]
  },
  {
   "cell_type": "code",
   "execution_count": null,
   "id": "90a3b370",
   "metadata": {},
   "outputs": [],
   "source": [
    "# Noisy Number Plate"
   ]
  },
  {
   "cell_type": "code",
   "execution_count": null,
   "id": "39b3fc95",
   "metadata": {},
   "outputs": [],
   "source": [
    "fname = 'Images/NumberPlate-gray.png'\n",
    "img = cv2.imread(fname,cv2.IMREAD_GRAYSCALE)\n",
    "print(img.shape)\n",
    "fig = plt.figure(figsize=(10,10))\n",
    "plt.imshow(img, cmap='gray')\n"
   ]
  },
  {
   "cell_type": "code",
   "execution_count": null,
   "id": "896d8765",
   "metadata": {},
   "outputs": [],
   "source": []
  }
 ],
 "metadata": {
  "kernelspec": {
   "display_name": "Python 3 (ipykernel)",
   "language": "python",
   "name": "python3"
  },
  "language_info": {
   "codemirror_mode": {
    "name": "ipython",
    "version": 3
   },
   "file_extension": ".py",
   "mimetype": "text/x-python",
   "name": "python",
   "nbconvert_exporter": "python",
   "pygments_lexer": "ipython3",
   "version": "3.9.5"
  }
 },
 "nbformat": 4,
 "nbformat_minor": 5
}
